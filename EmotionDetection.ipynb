{
 "cells": [
  {
   "cell_type": "markdown",
   "id": "7296a659",
   "metadata": {},
   "source": [
    "# Final Project PPB - Emotion Detection\n",
    "\n",
    "Ryan Fernaldy 05111940000152"
   ]
  },
  {
   "cell_type": "code",
   "execution_count": 24,
   "id": "6cec2a78",
   "metadata": {
    "scrolled": true
   },
   "outputs": [],
   "source": [
    "import numpy as np\n",
    "import argparse\n",
    "import matplotlib.pyplot as plt\n",
    "import cv2\n",
    "from tensorflow.keras.models import Sequential\n",
    "from tensorflow.keras.layers import Dense, Dropout, Flatten\n",
    "from tensorflow.keras.layers import Conv2D\n",
    "from tensorflow.keras.optimizers import Adam\n",
    "from tensorflow.keras.layers import MaxPooling2D\n",
    "from tensorflow.keras.preprocessing.image import ImageDataGenerator\n",
    "from tensorflow import lite\n",
    "import os\n",
    "\n",
    "os.environ['TF_CPP_MIN_LOG_LEVEL'] = '2'"
   ]
  },
  {
   "cell_type": "code",
   "execution_count": 2,
   "id": "a905a3be",
   "metadata": {},
   "outputs": [],
   "source": [
    "train_dir = 'data/train'\n",
    "val_dir = 'data/test'\n",
    "\n",
    "num_train = 28709\n",
    "num_val = 7178\n",
    "batch_size = 64\n",
    "num_epoch = 50"
   ]
  },
  {
   "cell_type": "code",
   "execution_count": 3,
   "id": "618543f9",
   "metadata": {},
   "outputs": [
    {
     "name": "stdout",
     "output_type": "stream",
     "text": [
      "Found 28709 images belonging to 7 classes.\n",
      "Found 7178 images belonging to 7 classes.\n"
     ]
    }
   ],
   "source": [
    "train_datagen = ImageDataGenerator(rescale=1./255)\n",
    "val_datagen = ImageDataGenerator(rescale=1./255)\n",
    "\n",
    "train_generator = train_datagen.flow_from_directory(\n",
    "        train_dir,\n",
    "        target_size=(48,48),\n",
    "        batch_size=batch_size,\n",
    "        color_mode=\"grayscale\",\n",
    "        class_mode='categorical')\n",
    "\n",
    "validation_generator = val_datagen.flow_from_directory(\n",
    "        val_dir,\n",
    "        target_size=(48,48),\n",
    "        batch_size=batch_size,\n",
    "        color_mode=\"grayscale\",\n",
    "        class_mode='categorical')"
   ]
  },
  {
   "cell_type": "markdown",
   "id": "2af85e3a",
   "metadata": {},
   "source": [
    "## Buat model"
   ]
  },
  {
   "cell_type": "code",
   "execution_count": 4,
   "id": "137671c8",
   "metadata": {},
   "outputs": [
    {
     "name": "stderr",
     "output_type": "stream",
     "text": [
      "2022-11-25 13:03:12.905636: E tensorflow/stream_executor/cuda/cuda_driver.cc:265] failed call to cuInit: CUDA_ERROR_NO_DEVICE: no CUDA-capable device is detected\n",
      "2022-11-25 13:03:12.905661: I tensorflow/stream_executor/cuda/cuda_diagnostics.cc:156] kernel driver does not appear to be running on this host (ryan): /proc/driver/nvidia/version does not exist\n",
      "2022-11-25 13:03:12.906116: I tensorflow/core/platform/cpu_feature_guard.cc:193] This TensorFlow binary is optimized with oneAPI Deep Neural Network Library (oneDNN) to use the following CPU instructions in performance-critical operations:  AVX2 FMA\n",
      "To enable them in other operations, rebuild TensorFlow with the appropriate compiler flags.\n"
     ]
    }
   ],
   "source": [
    "model = Sequential()\n",
    "\n",
    "model.add(Conv2D(32, kernel_size=(3, 3), activation='relu', input_shape=(48,48,1)))\n",
    "model.add(Conv2D(64, kernel_size=(3, 3), activation='relu'))\n",
    "model.add(MaxPooling2D(pool_size=(2, 2)))\n",
    "model.add(Dropout(0.25))\n",
    "\n",
    "model.add(Conv2D(128, kernel_size=(3, 3), activation='relu'))\n",
    "model.add(MaxPooling2D(pool_size=(2, 2)))\n",
    "model.add(Conv2D(128, kernel_size=(3, 3), activation='relu'))\n",
    "model.add(MaxPooling2D(pool_size=(2, 2)))\n",
    "model.add(Dropout(0.25))\n",
    "\n",
    "model.add(Flatten())\n",
    "model.add(Dense(1024, activation='relu'))\n",
    "model.add(Dropout(0.5))\n",
    "model.add(Dense(7, activation='softmax'))"
   ]
  },
  {
   "cell_type": "code",
   "execution_count": 5,
   "id": "87d945da",
   "metadata": {},
   "outputs": [
    {
     "name": "stdout",
     "output_type": "stream",
     "text": [
      "Model: \"sequential\"\n",
      "_________________________________________________________________\n",
      " Layer (type)                Output Shape              Param #   \n",
      "=================================================================\n",
      " conv2d (Conv2D)             (None, 46, 46, 32)        320       \n",
      "                                                                 \n",
      " conv2d_1 (Conv2D)           (None, 44, 44, 64)        18496     \n",
      "                                                                 \n",
      " max_pooling2d (MaxPooling2D  (None, 22, 22, 64)       0         \n",
      " )                                                               \n",
      "                                                                 \n",
      " dropout (Dropout)           (None, 22, 22, 64)        0         \n",
      "                                                                 \n",
      " conv2d_2 (Conv2D)           (None, 20, 20, 128)       73856     \n",
      "                                                                 \n",
      " max_pooling2d_1 (MaxPooling  (None, 10, 10, 128)      0         \n",
      " 2D)                                                             \n",
      "                                                                 \n",
      " conv2d_3 (Conv2D)           (None, 8, 8, 128)         147584    \n",
      "                                                                 \n",
      " max_pooling2d_2 (MaxPooling  (None, 4, 4, 128)        0         \n",
      " 2D)                                                             \n",
      "                                                                 \n",
      " dropout_1 (Dropout)         (None, 4, 4, 128)         0         \n",
      "                                                                 \n",
      " flatten (Flatten)           (None, 2048)              0         \n",
      "                                                                 \n",
      " dense (Dense)               (None, 1024)              2098176   \n",
      "                                                                 \n",
      " dropout_2 (Dropout)         (None, 1024)              0         \n",
      "                                                                 \n",
      " dense_1 (Dense)             (None, 7)                 7175      \n",
      "                                                                 \n",
      "=================================================================\n",
      "Total params: 2,345,607\n",
      "Trainable params: 2,345,607\n",
      "Non-trainable params: 0\n",
      "_________________________________________________________________\n"
     ]
    }
   ],
   "source": [
    "model.compile(loss='categorical_crossentropy',optimizer=Adam(learning_rate=0.0001, decay=1e-6),metrics=['accuracy'])\n",
    "model.summary()"
   ]
  },
  {
   "cell_type": "code",
   "execution_count": 6,
   "id": "7d6c8e01",
   "metadata": {},
   "outputs": [
    {
     "name": "stdout",
     "output_type": "stream",
     "text": [
      "Epoch 1/50\n",
      "448/448 [==============================] - 141s 314ms/step - loss: 1.8056 - accuracy: 0.2564 - val_loss: 1.7138 - val_accuracy: 0.3337\n",
      "Epoch 2/50\n",
      "448/448 [==============================] - 138s 309ms/step - loss: 1.6263 - accuracy: 0.3635 - val_loss: 1.5425 - val_accuracy: 0.4107\n",
      "Epoch 3/50\n",
      "448/448 [==============================] - 162s 361ms/step - loss: 1.5203 - accuracy: 0.4158 - val_loss: 1.4641 - val_accuracy: 0.4438\n",
      "Epoch 4/50\n",
      "448/448 [==============================] - 165s 369ms/step - loss: 1.4435 - accuracy: 0.4474 - val_loss: 1.3894 - val_accuracy: 0.4734\n",
      "Epoch 5/50\n",
      "448/448 [==============================] - 155s 345ms/step - loss: 1.3772 - accuracy: 0.4759 - val_loss: 1.3255 - val_accuracy: 0.4973\n",
      "Epoch 6/50\n",
      "448/448 [==============================] - 158s 353ms/step - loss: 1.3228 - accuracy: 0.5017 - val_loss: 1.2946 - val_accuracy: 0.5074\n",
      "Epoch 7/50\n",
      "448/448 [==============================] - 161s 360ms/step - loss: 1.2766 - accuracy: 0.5187 - val_loss: 1.2481 - val_accuracy: 0.5276\n",
      "Epoch 8/50\n",
      "448/448 [==============================] - 164s 366ms/step - loss: 1.2413 - accuracy: 0.5333 - val_loss: 1.2230 - val_accuracy: 0.5357\n",
      "Epoch 9/50\n",
      "448/448 [==============================] - 163s 363ms/step - loss: 1.2067 - accuracy: 0.5464 - val_loss: 1.2081 - val_accuracy: 0.5388\n",
      "Epoch 10/50\n",
      "448/448 [==============================] - 159s 355ms/step - loss: 1.1756 - accuracy: 0.5572 - val_loss: 1.1868 - val_accuracy: 0.5491\n",
      "Epoch 11/50\n",
      "448/448 [==============================] - 149s 331ms/step - loss: 1.1493 - accuracy: 0.5699 - val_loss: 1.1719 - val_accuracy: 0.5551\n",
      "Epoch 12/50\n",
      "448/448 [==============================] - 162s 362ms/step - loss: 1.1234 - accuracy: 0.5795 - val_loss: 1.1537 - val_accuracy: 0.5626\n",
      "Epoch 13/50\n",
      "448/448 [==============================] - 156s 348ms/step - loss: 1.0994 - accuracy: 0.5868 - val_loss: 1.1549 - val_accuracy: 0.5661\n",
      "Epoch 14/50\n",
      "448/448 [==============================] - 166s 371ms/step - loss: 1.0755 - accuracy: 0.5996 - val_loss: 1.1244 - val_accuracy: 0.5734\n",
      "Epoch 15/50\n",
      "448/448 [==============================] - 153s 342ms/step - loss: 1.0477 - accuracy: 0.6077 - val_loss: 1.1122 - val_accuracy: 0.5833\n",
      "Epoch 16/50\n",
      "448/448 [==============================] - 155s 345ms/step - loss: 1.0217 - accuracy: 0.6213 - val_loss: 1.1086 - val_accuracy: 0.5823\n",
      "Epoch 17/50\n",
      "448/448 [==============================] - 161s 360ms/step - loss: 1.0096 - accuracy: 0.6248 - val_loss: 1.1126 - val_accuracy: 0.5791\n",
      "Epoch 18/50\n",
      "448/448 [==============================] - 174s 388ms/step - loss: 0.9829 - accuracy: 0.6368 - val_loss: 1.1010 - val_accuracy: 0.5897\n",
      "Epoch 19/50\n",
      "448/448 [==============================] - 150s 334ms/step - loss: 0.9566 - accuracy: 0.6477 - val_loss: 1.0886 - val_accuracy: 0.5933\n",
      "Epoch 20/50\n",
      "448/448 [==============================] - 148s 331ms/step - loss: 0.9354 - accuracy: 0.6569 - val_loss: 1.0898 - val_accuracy: 0.5946\n",
      "Epoch 21/50\n",
      "448/448 [==============================] - 148s 331ms/step - loss: 0.9097 - accuracy: 0.6641 - val_loss: 1.0739 - val_accuracy: 0.5986\n",
      "Epoch 22/50\n",
      "448/448 [==============================] - 146s 326ms/step - loss: 0.8893 - accuracy: 0.6712 - val_loss: 1.0869 - val_accuracy: 0.5986\n",
      "Epoch 23/50\n",
      "448/448 [==============================] - 148s 329ms/step - loss: 0.8640 - accuracy: 0.6831 - val_loss: 1.0862 - val_accuracy: 0.5996\n",
      "Epoch 24/50\n",
      "448/448 [==============================] - 147s 328ms/step - loss: 0.8412 - accuracy: 0.6932 - val_loss: 1.0781 - val_accuracy: 0.6023\n",
      "Epoch 25/50\n",
      "448/448 [==============================] - 146s 325ms/step - loss: 0.8188 - accuracy: 0.6988 - val_loss: 1.0777 - val_accuracy: 0.6038\n",
      "Epoch 26/50\n",
      "448/448 [==============================] - 145s 323ms/step - loss: 0.7924 - accuracy: 0.7108 - val_loss: 1.0774 - val_accuracy: 0.6124\n",
      "Epoch 27/50\n",
      "448/448 [==============================] - 144s 322ms/step - loss: 0.7695 - accuracy: 0.7213 - val_loss: 1.0716 - val_accuracy: 0.6124\n",
      "Epoch 28/50\n",
      "448/448 [==============================] - 146s 326ms/step - loss: 0.7505 - accuracy: 0.7229 - val_loss: 1.0803 - val_accuracy: 0.6150\n",
      "Epoch 29/50\n",
      "448/448 [==============================] - 144s 322ms/step - loss: 0.7292 - accuracy: 0.7300 - val_loss: 1.0805 - val_accuracy: 0.6108\n",
      "Epoch 30/50\n",
      "448/448 [==============================] - 144s 322ms/step - loss: 0.7018 - accuracy: 0.7437 - val_loss: 1.0915 - val_accuracy: 0.6141\n",
      "Epoch 31/50\n",
      "448/448 [==============================] - 145s 324ms/step - loss: 0.6862 - accuracy: 0.7499 - val_loss: 1.0896 - val_accuracy: 0.6150\n",
      "Epoch 32/50\n",
      "448/448 [==============================] - 145s 323ms/step - loss: 0.6650 - accuracy: 0.7586 - val_loss: 1.0862 - val_accuracy: 0.6193\n",
      "Epoch 33/50\n",
      "448/448 [==============================] - 144s 322ms/step - loss: 0.6406 - accuracy: 0.7660 - val_loss: 1.0877 - val_accuracy: 0.6166\n",
      "Epoch 34/50\n",
      "448/448 [==============================] - 149s 332ms/step - loss: 0.6161 - accuracy: 0.7753 - val_loss: 1.0902 - val_accuracy: 0.6165\n",
      "Epoch 35/50\n",
      "448/448 [==============================] - 148s 330ms/step - loss: 0.5942 - accuracy: 0.7851 - val_loss: 1.1003 - val_accuracy: 0.6144\n",
      "Epoch 36/50\n",
      "448/448 [==============================] - 147s 328ms/step - loss: 0.5726 - accuracy: 0.7938 - val_loss: 1.1010 - val_accuracy: 0.6184\n",
      "Epoch 37/50\n",
      "448/448 [==============================] - 134s 299ms/step - loss: 0.5519 - accuracy: 0.7982 - val_loss: 1.1152 - val_accuracy: 0.6191\n",
      "Epoch 38/50\n",
      "448/448 [==============================] - 131s 292ms/step - loss: 0.5365 - accuracy: 0.8069 - val_loss: 1.1250 - val_accuracy: 0.6207\n",
      "Epoch 39/50\n",
      "448/448 [==============================] - 140s 313ms/step - loss: 0.5221 - accuracy: 0.8082 - val_loss: 1.1378 - val_accuracy: 0.6170\n",
      "Epoch 40/50\n",
      "448/448 [==============================] - 145s 324ms/step - loss: 0.4981 - accuracy: 0.8209 - val_loss: 1.1447 - val_accuracy: 0.6184\n",
      "Epoch 41/50\n",
      "448/448 [==============================] - 144s 321ms/step - loss: 0.4862 - accuracy: 0.8224 - val_loss: 1.1644 - val_accuracy: 0.6223\n",
      "Epoch 42/50\n",
      "448/448 [==============================] - 151s 337ms/step - loss: 0.4735 - accuracy: 0.8285 - val_loss: 1.1452 - val_accuracy: 0.6247\n",
      "Epoch 43/50\n",
      "448/448 [==============================] - 146s 325ms/step - loss: 0.4521 - accuracy: 0.8384 - val_loss: 1.1743 - val_accuracy: 0.6210\n",
      "Epoch 44/50\n",
      "448/448 [==============================] - 142s 317ms/step - loss: 0.4434 - accuracy: 0.8416 - val_loss: 1.1745 - val_accuracy: 0.6194\n",
      "Epoch 45/50\n",
      "448/448 [==============================] - 141s 314ms/step - loss: 0.4202 - accuracy: 0.8467 - val_loss: 1.2017 - val_accuracy: 0.6187\n",
      "Epoch 46/50\n",
      "448/448 [==============================] - 144s 322ms/step - loss: 0.4093 - accuracy: 0.8513 - val_loss: 1.1948 - val_accuracy: 0.6229\n",
      "Epoch 47/50\n",
      "448/448 [==============================] - 129s 287ms/step - loss: 0.3971 - accuracy: 0.8573 - val_loss: 1.2001 - val_accuracy: 0.6240\n",
      "Epoch 48/50\n",
      "448/448 [==============================] - 129s 289ms/step - loss: 0.3865 - accuracy: 0.8633 - val_loss: 1.2232 - val_accuracy: 0.6268\n",
      "Epoch 49/50\n",
      "448/448 [==============================] - 124s 277ms/step - loss: 0.3733 - accuracy: 0.8658 - val_loss: 1.2478 - val_accuracy: 0.6218\n",
      "Epoch 50/50\n",
      "448/448 [==============================] - 125s 278ms/step - loss: 0.3631 - accuracy: 0.8673 - val_loss: 1.2479 - val_accuracy: 0.6207\n"
     ]
    }
   ],
   "source": [
    "history = model.fit(\n",
    "        train_generator,\n",
    "        steps_per_epoch=num_train // batch_size,\n",
    "        epochs=num_epoch,\n",
    "        validation_data=validation_generator,\n",
    "        validation_steps=num_val // batch_size)"
   ]
  },
  {
   "cell_type": "code",
   "execution_count": 17,
   "id": "7a8c6ce3",
   "metadata": {},
   "outputs": [],
   "source": [
    "def plot_model_history(model_history):\n",
    "    \"\"\"\n",
    "    Plot Accuracy and Loss curves given the model_history\n",
    "    \"\"\"\n",
    "    fig, axs = plt.subplots(1,2,figsize=(15,5))\n",
    "    # summarize history for accuracy\n",
    "    axs[0].plot(range(1,len(model_history.history['accuracy'])+1),model_history.history['accuracy'])\n",
    "    axs[0].plot(range(1,len(model_history.history['val_accuracy'])+1),model_history.history['val_accuracy'])\n",
    "    axs[0].set_title('Model Accuracy')\n",
    "    axs[0].set_ylabel('Accuracy')\n",
    "    axs[0].set_xlabel('Epoch')\n",
    "    axs[0].legend(['train', 'val'], loc='best')\n",
    "    # summarize history for loss\n",
    "    axs[1].plot(range(1,len(model_history.history['loss'])+1),model_history.history['loss'])\n",
    "    axs[1].plot(range(1,len(model_history.history['val_loss'])+1),model_history.history['val_loss'])\n",
    "    axs[1].set_title('Model Loss')\n",
    "    axs[1].set_ylabel('Loss')\n",
    "    axs[1].set_xlabel('Epoch')\n",
    "    axs[1].legend(['train', 'val'], loc='best')\n",
    "    plt.show()"
   ]
  },
  {
   "cell_type": "code",
   "execution_count": 18,
   "id": "c2249da7",
   "metadata": {},
   "outputs": [
    {
     "data": {
      "image/png": "[encoded data removed]",
      "text/plain": [
       "<Figure size 1500x500 with 2 Axes>"
      ]
     },
     "metadata": {},
     "output_type": "display_data"
    }
   ],
   "source": [
    "# history.history.keys()\n",
    "plot_model_history(history)"
   ]
  },
  {
   "cell_type": "markdown",
   "id": "25ddb031",
   "metadata": {},
   "source": [
    "### Save Weight"
   ]
  },
  {
   "cell_type": "code",
   "execution_count": 19,
   "id": "88b39216",
   "metadata": {},
   "outputs": [],
   "source": [
    "model.save_weights('model.h5')"
   ]
  },
  {
   "cell_type": "markdown",
   "id": "4c959beb",
   "metadata": {},
   "source": [
    "## Predict Emotion"
   ]
  },
  {
   "cell_type": "code",
   "execution_count": 101,
   "id": "90c97f0c",
   "metadata": {},
   "outputs": [],
   "source": [
    "def map_prediction(prediction):\n",
    "    emotion_dict = {0: \"Angry\", 1: \"Disgusted\", 2: \"Fearful\", 3: \"Happy\", 4: \"Neutral\", 5: \"Sad\", 6: \"Surprised\"}\n",
    "    maxindex = int(np.argmax(prediction))\n",
    "\n",
    "    return emotion_dict[maxindex]"
   ]
  },
  {
   "cell_type": "code",
   "execution_count": 102,
   "id": "0fc46088",
   "metadata": {},
   "outputs": [
    {
     "data": {
      "image/jpeg": "[encoded data removed]",
      "text/plain": [
       "<IPython.core.display.Image object>"
      ]
     },
     "metadata": {},
     "output_type": "display_data"
    }
   ],
   "source": [
    "from IPython.display import Image, display\n",
    "\n",
    "display(Image(filename=\"tes.jpeg\"))"
   ]
  },
  {
   "cell_type": "code",
   "execution_count": 103,
   "id": "1baa2d1c",
   "metadata": {},
   "outputs": [
    {
     "name": "stdout",
     "output_type": "stream",
     "text": [
      "1/1 [==============================] - 0s 18ms/step\n"
     ]
    }
   ],
   "source": [
    "from PIL import Image, ImageOps, ImageDraw\n",
    "img = Image.open(\"tes.jpeg\").convert('L').resize((48, 48), Image.ANTIALIAS)\n",
    "gray = ImageOps.grayscale(img) #convert to grayscale\n",
    "gray = np.array(gray)\n",
    "prediction = model.predict(gray[None,:,:])"
   ]
  },
  {
   "cell_type": "code",
   "execution_count": 104,
   "id": "d530f495",
   "metadata": {},
   "outputs": [
    {
     "name": "stdout",
     "output_type": "stream",
     "text": [
      "Angry\n"
     ]
    }
   ],
   "source": [
    "print(map_prediction(prediction))"
   ]
  },
  {
   "cell_type": "markdown",
   "id": "2bac9463",
   "metadata": {},
   "source": [
    "Hasil prediksi tidak sesuai harapan karena gambar input belum di preprocess"
   ]
  },
  {
   "cell_type": "markdown",
   "id": "6cfe03f4",
   "metadata": {},
   "source": [
    "## Face Detection From Input"
   ]
  },
  {
   "cell_type": "code",
   "execution_count": 105,
   "id": "b98f97ae",
   "metadata": {},
   "outputs": [],
   "source": [
    "gray = ImageOps.grayscale(Image.open(\"tes.jpeg\"))\n",
    "gray = np.array(gray)"
   ]
  },
  {
   "cell_type": "code",
   "execution_count": 106,
   "id": "a9aa42a4",
   "metadata": {},
   "outputs": [],
   "source": [
    "from PIL import Image\n",
    "facecasc = cv2.CascadeClassifier('haarcascade_frontalface_default.xml')\n",
    "faces = facecasc.detectMultiScale(gray,scaleFactor=1.3, minNeighbors=5)\n",
    "img = Image.open(\"tes.jpeg\")\n",
    "\n",
    "shapes = []\n",
    "for (x, y, w, h) in faces:\n",
    "    shape = ((x,y), (x+w,y+h))\n",
    "    shapes.append(shape)\n",
    "    img1 = ImageDraw.Draw(img)  \n",
    "    img1.rectangle(shape, outline =\"red\")\n",
    "    \n",
    "img.save('tes-face-detection.jpeg')"
   ]
  },
  {
   "cell_type": "code",
   "execution_count": 107,
   "id": "443e6dd0",
   "metadata": {},
   "outputs": [
    {
     "data": {
      "image/jpeg": "[encoded data removed]",
      "text/plain": [
       "<IPython.core.display.Image object>"
      ]
     },
     "metadata": {},
     "output_type": "display_data"
    }
   ],
   "source": [
    "from IPython.display import Image, display\n",
    "\n",
    "display(Image(filename=\"tes-face-detection.jpeg\"))"
   ]
  },
  {
   "cell_type": "code",
   "execution_count": 108,
   "id": "23d835a2",
   "metadata": {},
   "outputs": [],
   "source": [
    "# crop image\n",
    "# print(shape)\n",
    "images = []\n",
    "for shape in shapes:\n",
    "    ((x1, y1), (x2, y2)) = shape\n",
    "    cropped = img.crop((x1,y1,x2,y2))\n",
    "    images.append(cropped)"
   ]
  },
  {
   "cell_type": "code",
   "execution_count": 109,
   "id": "7012736d",
   "metadata": {},
   "outputs": [],
   "source": [
    "ctr = 0\n",
    "for image in images:\n",
    "    image.save(f\"{ctr}.jpeg\")\n",
    "    ctr = ctr+1"
   ]
  },
  {
   "cell_type": "markdown",
   "id": "05b7422f",
   "metadata": {},
   "source": [
    "## Predict cropped image"
   ]
  },
  {
   "cell_type": "code",
   "execution_count": 110,
   "id": "a034a6a5",
   "metadata": {},
   "outputs": [
    {
     "data": {
      "image/jpeg": "[encoded data removed]",
      "text/plain": [
       "<IPython.core.display.Image object>"
      ]
     },
     "metadata": {},
     "output_type": "display_data"
    }
   ],
   "source": [
    "from IPython.display import Image, display\n",
    "\n",
    "display(Image(filename=\"0.jpeg\"))"
   ]
  },
  {
   "cell_type": "code",
   "execution_count": 112,
   "id": "e628ae1b",
   "metadata": {},
   "outputs": [
    {
     "name": "stdout",
     "output_type": "stream",
     "text": [
      "1/1 [==============================] - 0s 18ms/step\n"
     ]
    }
   ],
   "source": [
    "from PIL import Image\n",
    "img = Image.open(\"0.jpeg\").convert('L').resize((48, 48))\n",
    "gray = ImageOps.grayscale(img)\n",
    "img = np.array(gray)\n",
    "prediction2 = model.predict(img[None,:,:])"
   ]
  },
  {
   "cell_type": "code",
   "execution_count": 113,
   "id": "cbfd9ac7",
   "metadata": {},
   "outputs": [
    {
     "name": "stdout",
     "output_type": "stream",
     "text": [
      "Happy\n"
     ]
    }
   ],
   "source": [
    "print(map_prediction(prediction2))"
   ]
  },
  {
   "cell_type": "markdown",
   "id": "0ef4721c",
   "metadata": {},
   "source": [
    "## Load Saved Model"
   ]
  },
  {
   "cell_type": "code",
   "execution_count": 20,
   "id": "408f695a",
   "metadata": {},
   "outputs": [],
   "source": [
    "model = Sequential()\n",
    "\n",
    "model.add(Conv2D(32, kernel_size=(3, 3), activation='relu', input_shape=(48,48,1)))\n",
    "model.add(Conv2D(64, kernel_size=(3, 3), activation='relu'))\n",
    "model.add(MaxPooling2D(pool_size=(2, 2)))\n",
    "model.add(Dropout(0.25))\n",
    "\n",
    "model.add(Conv2D(128, kernel_size=(3, 3), activation='relu'))\n",
    "model.add(MaxPooling2D(pool_size=(2, 2)))\n",
    "model.add(Conv2D(128, kernel_size=(3, 3), activation='relu'))\n",
    "model.add(MaxPooling2D(pool_size=(2, 2)))\n",
    "model.add(Dropout(0.25))\n",
    "\n",
    "model.add(Flatten())\n",
    "model.add(Dense(1024, activation='relu'))\n",
    "model.add(Dropout(0.5))\n",
    "model.add(Dense(7, activation='softmax'))"
   ]
  },
  {
   "cell_type": "code",
   "execution_count": 22,
   "id": "ff65246a",
   "metadata": {},
   "outputs": [
    {
     "name": "stdout",
     "output_type": "stream",
     "text": [
      "Model: \"sequential_1\"\n",
      "_________________________________________________________________\n",
      " Layer (type)                Output Shape              Param #   \n",
      "=================================================================\n",
      " conv2d_4 (Conv2D)           (None, 46, 46, 32)        320       \n",
      "                                                                 \n",
      " conv2d_5 (Conv2D)           (None, 44, 44, 64)        18496     \n",
      "                                                                 \n",
      " max_pooling2d_3 (MaxPooling  (None, 22, 22, 64)       0         \n",
      " 2D)                                                             \n",
      "                                                                 \n",
      " dropout_3 (Dropout)         (None, 22, 22, 64)        0         \n",
      "                                                                 \n",
      " conv2d_6 (Conv2D)           (None, 20, 20, 128)       73856     \n",
      "                                                                 \n",
      " max_pooling2d_4 (MaxPooling  (None, 10, 10, 128)      0         \n",
      " 2D)                                                             \n",
      "                                                                 \n",
      " conv2d_7 (Conv2D)           (None, 8, 8, 128)         147584    \n",
      "                                                                 \n",
      " max_pooling2d_5 (MaxPooling  (None, 4, 4, 128)        0         \n",
      " 2D)                                                             \n",
      "                                                                 \n",
      " dropout_4 (Dropout)         (None, 4, 4, 128)         0         \n",
      "                                                                 \n",
      " flatten_1 (Flatten)         (None, 2048)              0         \n",
      "                                                                 \n",
      " dense_2 (Dense)             (None, 1024)              2098176   \n",
      "                                                                 \n",
      " dropout_5 (Dropout)         (None, 1024)              0         \n",
      "                                                                 \n",
      " dense_3 (Dense)             (None, 7)                 7175      \n",
      "                                                                 \n",
      "=================================================================\n",
      "Total params: 2,345,607\n",
      "Trainable params: 2,345,607\n",
      "Non-trainable params: 0\n",
      "_________________________________________________________________\n"
     ]
    }
   ],
   "source": [
    "model.summary()"
   ]
  },
  {
   "cell_type": "code",
   "execution_count": 21,
   "id": "aac7a607",
   "metadata": {},
   "outputs": [],
   "source": [
    "model.load_weights('model.h5')"
   ]
  },
  {
   "cell_type": "markdown",
   "id": "716b695e",
   "metadata": {},
   "source": [
    "## Convert ke TFLite"
   ]
  },
  {
   "cell_type": "code",
   "execution_count": 25,
   "id": "79034395",
   "metadata": {},
   "outputs": [
    {
     "name": "stderr",
     "output_type": "stream",
     "text": [
      "WARNING:absl:Found untraced functions such as _jit_compiled_convolution_op, _jit_compiled_convolution_op, _jit_compiled_convolution_op, _jit_compiled_convolution_op while saving (showing 4 of 4). These functions will not be directly callable after loading.\n"
     ]
    },
    {
     "name": "stdout",
     "output_type": "stream",
     "text": [
      "INFO:tensorflow:Assets written to: /tmp/tmpja4mx0lw/assets\n"
     ]
    },
    {
     "name": "stderr",
     "output_type": "stream",
     "text": [
      "INFO:tensorflow:Assets written to: /tmp/tmpja4mx0lw/assets\n",
      "2022-11-25 15:13:11.598989: W tensorflow/compiler/mlir/lite/python/tf_tfl_flatbuffer_helpers.cc:362] Ignored output_format.\n",
      "2022-11-25 15:13:11.599021: W tensorflow/compiler/mlir/lite/python/tf_tfl_flatbuffer_helpers.cc:365] Ignored drop_control_dependency.\n",
      "2022-11-25 15:13:11.599649: I tensorflow/cc/saved_model/reader.cc:45] Reading SavedModel from: /tmp/tmpja4mx0lw\n",
      "2022-11-25 15:13:11.601691: I tensorflow/cc/saved_model/reader.cc:89] Reading meta graph with tags { serve }\n",
      "2022-11-25 15:13:11.601718: I tensorflow/cc/saved_model/reader.cc:130] Reading SavedModel debug info (if present) from: /tmp/tmpja4mx0lw\n",
      "2022-11-25 15:13:11.609243: I tensorflow/compiler/mlir/mlir_graph_optimization_pass.cc:354] MLIR V1 optimization pass is not enabled\n",
      "2022-11-25 15:13:11.610936: I tensorflow/cc/saved_model/loader.cc:229] Restoring SavedModel bundle.\n",
      "2022-11-25 15:13:11.646656: I tensorflow/cc/saved_model/loader.cc:213] Running initialization op on SavedModel bundle at path: /tmp/tmpja4mx0lw\n",
      "2022-11-25 15:13:11.656882: I tensorflow/cc/saved_model/loader.cc:305] SavedModel load for tags { serve }; Status: success: OK. Took 57236 microseconds.\n",
      "2022-11-25 15:13:11.709623: I tensorflow/compiler/mlir/tensorflow/utils/dump_mlir_util.cc:268] disabling MLIR crash reproducer, set env var `MLIR_CRASH_REPRODUCER_DIRECTORY` to enable.\n"
     ]
    },
    {
     "data": {
      "text/plain": [
       "9387136"
      ]
     },
     "execution_count": 25,
     "metadata": {},
     "output_type": "execute_result"
    }
   ],
   "source": [
    "converter = lite.TFLiteConverter.from_keras_model(model)\n",
    "tflite_model = converter.convert()\n",
    "open(\"model.tflite\", \"wb\").write(tflite_model)"
   ]
  }
 ],
 "metadata": {
  "kernelspec": {
   "display_name": "Python 3 (ipykernel)",
   "language": "python",
   "name": "python3"
  },
  "language_info": {
   "codemirror_mode": {
    "name": "ipython",
    "version": 3
   },
   "file_extension": ".py",
   "mimetype": "text/x-python",
   "name": "python",
   "nbconvert_exporter": "python",
   "pygments_lexer": "ipython3",
   "version": "3.10.6"
  }
 },
 "nbformat": 4,
 "nbformat_minor": 5
}
